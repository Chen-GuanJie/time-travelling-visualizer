{
 "cells": [
  {
   "cell_type": "code",
   "execution_count": 64,
   "metadata": {},
   "outputs": [],
   "source": [
    "import numpy as np\n",
    "import os\n",
    "import torch\n",
    "content_path = '/home/yifan/full_checkpoint'\n",
    "model_path  = os.path.join(content_path)\n",
    "Epoch = 26\n",
    "ENCODER_DIMS= [768,512,256,256,256,256,2]\n",
    "DECODER_DIMS= [2,256,256,256,256,512,768]\n",
    "GPU_ID = 0\n",
    "PATIENT = 5\n",
    "MAX_EPOCH = 10\n",
    "Epoch_name = 'ckpt_epc'\n",
    "S_N_EPOCHS = 5\n",
    "VIS_MODEL_NAME = 'text'\n",
    "DEVICE = torch.device(\"cuda:{}\".format(GPU_ID) if torch.cuda.is_available() else \"cpu\")\n",
    "train_representation = np.load(os.path.join(model_path, '{}{}'.format(Epoch_name,Epoch), 'train_data.npy'))\n",
    "test_representation = np.load(os.path.join(model_path, '{}{}'.format(Epoch_name,Epoch), 'test_data.npy'))"
   ]
  },
  {
   "cell_type": "code",
   "execution_count": 54,
   "metadata": {},
   "outputs": [],
   "source": [
    "from pynndescent import NNDescent\n",
    "from sklearn.utils import check_random_state\n",
    "from umap.umap_ import fuzzy_simplicial_set, make_epochs_per_sample\n",
    "\n",
    "def _construct_fuzzy_complex(train_data, n_neighbors=15,metric=\"euclidean\"):\n",
    "        # \"\"\"\n",
    "        # construct a vietoris-rips complex\n",
    "        # \"\"\"\n",
    "        # number of trees in random projection forest\n",
    "        n_trees = min(64, 5 + int(round((train_data.shape[0]) ** 0.5 / 20.0)))\n",
    "        # max number of nearest neighbor iters to perform\n",
    "        n_iters = max(5, int(round(np.log2(train_data.shape[0]))))\n",
    "        # distance metric\n",
    "        # # get nearest neighbors\n",
    "        \n",
    "        nnd = NNDescent(\n",
    "            train_data,\n",
    "            n_neighbors=n_neighbors,\n",
    "            metric=metric,\n",
    "            n_trees=n_trees,\n",
    "            n_iters=n_iters,\n",
    "            max_candidates=60,\n",
    "            verbose=True\n",
    "        )\n",
    "        knn_indices, knn_dists = nnd.neighbor_graph\n",
    "        random_state = check_random_state(42)\n",
    "        complex, sigmas, rhos = fuzzy_simplicial_set(\n",
    "            X=train_data,\n",
    "            n_neighbors=n_neighbors,\n",
    "            metric=metric,\n",
    "            random_state=random_state,\n",
    "            knn_indices=knn_indices,\n",
    "            knn_dists=knn_dists\n",
    "        )\n",
    "        return complex, sigmas, rhos, knn_indices"
   ]
  },
  {
   "cell_type": "code",
   "execution_count": 55,
   "metadata": {},
   "outputs": [
    {
     "name": "stdout",
     "output_type": "stream",
     "text": [
      "Tue Dec 19 13:38:52 2023 Building RP forest with 21 trees\n",
      "Tue Dec 19 13:38:56 2023 NN descent for 17 iterations\n",
      "\t 1  /  17\n",
      "\t 2  /  17\n",
      "\t 3  /  17\n",
      "\t 4  /  17\n",
      "\t 5  /  17\n",
      "\t 6  /  17\n",
      "\t 7  /  17\n",
      "\t 8  /  17\n",
      "\tStopping threshold met -- exiting after 8 iterations\n"
     ]
    }
   ],
   "source": [
    "complex, _,_,_ = _construct_fuzzy_complex(train_representation)"
   ]
  },
  {
   "cell_type": "code",
   "execution_count": 56,
   "metadata": {},
   "outputs": [],
   "source": [
    "from singleVis.backend import get_graph_elements, get_attention\n",
    "from singleVis.utils import *"
   ]
  },
  {
   "cell_type": "code",
   "execution_count": 57,
   "metadata": {},
   "outputs": [],
   "source": [
    "def get_graph(feature_vectors, complex):\n",
    "    _, head, tail, weight, _ = get_graph_elements(complex, 5)\n",
    "    attention = np.zeros(feature_vectors.shape)\n",
    "    return head, tail, weight, feature_vectors, attention"
   ]
  },
  {
   "cell_type": "code",
   "execution_count": 58,
   "metadata": {},
   "outputs": [],
   "source": [
    "edge_to, edge_from, probs, feature_vectors, attention  = get_graph(train_representation, complex)"
   ]
  },
  {
   "cell_type": "code",
   "execution_count": 59,
   "metadata": {},
   "outputs": [],
   "source": [
    "from singleVis.edge_dataset import DVIDataHandler\n",
    "probs = probs / (probs.max()+1e-3)\n",
    "eliminate_zeros = probs> 1e-3    #1e-3\n",
    "edge_to = edge_to[eliminate_zeros]\n",
    "edge_from = edge_from[eliminate_zeros]\n",
    "probs = probs[eliminate_zeros]\n",
    "labels_non_boundary = np.zeros(len(edge_to))\n",
    "dataset = DVIDataHandler(edge_to, edge_from, feature_vectors, attention,labels_non_boundary)\n"
   ]
  },
  {
   "cell_type": "code",
   "execution_count": 60,
   "metadata": {},
   "outputs": [],
   "source": [
    "from torch.utils.data import DataLoader,ConcatDataset\n",
    "from torch.utils.data import WeightedRandomSampler\n",
    "from umap.umap_ import find_ab_params\n",
    "\n",
    "from singleVis.custom_weighted_random_sampler import CustomWeightedRandomSampler\n",
    "from singleVis.SingleVisualizationModel import VisModel\n",
    "n_samples = int(np.sum(S_N_EPOCHS * probs) // 1)\n",
    "# chose sampler based on the number of dataset\n",
    "if len(edge_to) > pow(2,24):\n",
    "    sampler = CustomWeightedRandomSampler(probs, n_samples, replacement=True)\n",
    "else:\n",
    "    sampler = WeightedRandomSampler(probs, n_samples, replacement=True)\n",
    "edge_loader = DataLoader(dataset, batch_size=2000, sampler=sampler, num_workers=8, prefetch_factor=10)"
   ]
  },
  {
   "cell_type": "code",
   "execution_count": 61,
   "metadata": {},
   "outputs": [],
   "source": [
    "from singleVis.losses import UmapLoss, ReconstructionLoss, TemporalLoss, DVILoss, DummyTemporalLoss"
   ]
  },
  {
   "cell_type": "code",
   "execution_count": 62,
   "metadata": {},
   "outputs": [],
   "source": [
    "\n",
    "# Define visualization models\n",
    "model = VisModel(ENCODER_DIMS, DECODER_DIMS)\n",
    "\n",
    "# Define Losses\n",
    "negative_sample_rate = 5\n",
    "min_dist = .1\n",
    "_a, _b = find_ab_params(1.0, min_dist)\n",
    "umap_loss_fn = UmapLoss(negative_sample_rate, DEVICE, _a, _b, repulsion_strength=1.0)\n",
    "recon_loss_fn = ReconstructionLoss(beta=1.0)"
   ]
  },
  {
   "cell_type": "code",
   "execution_count": 65,
   "metadata": {},
   "outputs": [
    {
     "name": "stdout",
     "output_type": "stream",
     "text": [
      "====================\n",
      "epoch:1\n",
      "===================\n"
     ]
    },
    {
     "name": "stderr",
     "output_type": "stream",
     "text": [
      "100%|██████████| 1473/1473 [00:41<00:00, 35.70it/s]\n"
     ]
    },
    {
     "name": "stdout",
     "output_type": "stream",
     "text": [
      "umap:0.2173\trecon_l:1.5526\ttemporal_l:0.0000\tloss:1.7700\n",
      "====================\n",
      "epoch:2\n",
      "===================\n"
     ]
    },
    {
     "name": "stderr",
     "output_type": "stream",
     "text": [
      "100%|██████████| 1473/1473 [00:40<00:00, 35.94it/s]\n"
     ]
    },
    {
     "name": "stdout",
     "output_type": "stream",
     "text": [
      "umap:0.2099\trecon_l:1.4571\ttemporal_l:0.0000\tloss:1.6670\n",
      "====================\n",
      "epoch:3\n",
      "===================\n"
     ]
    },
    {
     "name": "stderr",
     "output_type": "stream",
     "text": [
      "100%|██████████| 1473/1473 [00:41<00:00, 35.69it/s]\n"
     ]
    },
    {
     "name": "stdout",
     "output_type": "stream",
     "text": [
      "umap:0.2147\trecon_l:1.4581\ttemporal_l:0.0000\tloss:1.6728\n",
      "====================\n",
      "epoch:4\n",
      "===================\n"
     ]
    },
    {
     "name": "stderr",
     "output_type": "stream",
     "text": [
      "100%|██████████| 1473/1473 [00:41<00:00, 35.73it/s]\n"
     ]
    },
    {
     "name": "stdout",
     "output_type": "stream",
     "text": [
      "umap:0.2175\trecon_l:1.4734\ttemporal_l:0.0000\tloss:1.6909\n",
      "====================\n",
      "epoch:5\n",
      "===================\n"
     ]
    },
    {
     "name": "stderr",
     "output_type": "stream",
     "text": [
      "100%|██████████| 1473/1473 [00:41<00:00, 35.78it/s]\n"
     ]
    },
    {
     "name": "stdout",
     "output_type": "stream",
     "text": [
      "umap:0.2037\trecon_l:1.4105\ttemporal_l:0.0000\tloss:1.6142\n",
      "====================\n",
      "epoch:6\n",
      "===================\n"
     ]
    },
    {
     "name": "stderr",
     "output_type": "stream",
     "text": [
      "100%|██████████| 1473/1473 [00:41<00:00, 35.64it/s]\n"
     ]
    },
    {
     "name": "stdout",
     "output_type": "stream",
     "text": [
      "umap:0.1971\trecon_l:1.3802\ttemporal_l:0.0000\tloss:1.5772\n",
      "====================\n",
      "epoch:7\n",
      "===================\n"
     ]
    },
    {
     "name": "stderr",
     "output_type": "stream",
     "text": [
      "100%|██████████| 1473/1473 [00:41<00:00, 35.76it/s]\n"
     ]
    },
    {
     "name": "stdout",
     "output_type": "stream",
     "text": [
      "umap:0.1933\trecon_l:1.3628\ttemporal_l:0.0000\tloss:1.5561\n",
      "====================\n",
      "epoch:8\n",
      "===================\n"
     ]
    },
    {
     "name": "stderr",
     "output_type": "stream",
     "text": [
      "100%|██████████| 1473/1473 [00:41<00:00, 35.92it/s]\n"
     ]
    },
    {
     "name": "stdout",
     "output_type": "stream",
     "text": [
      "umap:0.1895\trecon_l:1.3506\ttemporal_l:0.0000\tloss:1.5401\n",
      "====================\n",
      "epoch:9\n",
      "===================\n"
     ]
    },
    {
     "name": "stderr",
     "output_type": "stream",
     "text": [
      "100%|██████████| 1473/1473 [00:41<00:00, 35.66it/s]\n"
     ]
    },
    {
     "name": "stdout",
     "output_type": "stream",
     "text": [
      "umap:0.1874\trecon_l:1.3392\ttemporal_l:0.0000\tloss:1.5265\n",
      "====================\n",
      "epoch:10\n",
      "===================\n"
     ]
    },
    {
     "name": "stderr",
     "output_type": "stream",
     "text": [
      "100%|██████████| 1473/1473 [00:41<00:00, 35.92it/s]"
     ]
    },
    {
     "name": "stdout",
     "output_type": "stream",
     "text": [
      "umap:0.1861\trecon_l:1.3348\ttemporal_l:0.0000\tloss:1.5209\n",
      "Time spend: 411.79 for training vis model...\n",
      "Successfully save visualization model...\n"
     ]
    },
    {
     "name": "stderr",
     "output_type": "stream",
     "text": [
      "\n"
     ]
    }
   ],
   "source": [
    "from singleVis.trainer import DVITrainer\n",
    "temporal_loss_fn = DummyTemporalLoss(DEVICE)\n",
    "optimizer = torch.optim.Adam(model.parameters(), lr=.01, weight_decay=1e-5)\n",
    "lr_scheduler = torch.optim.lr_scheduler.StepLR(optimizer, step_size=4, gamma=.1)\n",
    "criterion = DVILoss(umap_loss_fn, recon_loss_fn, temporal_loss_fn, lambd1=1, lambd2=0.0,device=DEVICE)\n",
    "trainer = DVITrainer(model, criterion, optimizer, lr_scheduler, edge_loader=edge_loader, DEVICE=DEVICE)\n",
    "\n",
    "trainer.train(PATIENT, MAX_EPOCH)\n",
    "\n",
    "# save result\n",
    "save_dir = model_path\n",
    "save_dir = os.path.join(model_path, '{}{}'.format(Epoch_name,Epoch))\n",
    "trainer.save(save_dir=save_dir, file_name=\"{}\".format(VIS_MODEL_NAME))\n"
   ]
  },
  {
   "cell_type": "code",
   "execution_count": 68,
   "metadata": {},
   "outputs": [
    {
     "data": {
      "text/plain": [
       "VisModel(\n",
       "  (encoder): Sequential(\n",
       "    (0): Linear(in_features=768, out_features=512, bias=True)\n",
       "    (1): ReLU(inplace=True)\n",
       "    (2): Linear(in_features=512, out_features=256, bias=True)\n",
       "    (3): ReLU(inplace=True)\n",
       "    (4): Linear(in_features=256, out_features=256, bias=True)\n",
       "    (5): ReLU(inplace=True)\n",
       "    (6): Linear(in_features=256, out_features=256, bias=True)\n",
       "    (7): ReLU(inplace=True)\n",
       "    (8): Linear(in_features=256, out_features=256, bias=True)\n",
       "    (9): ReLU(inplace=True)\n",
       "    (10): Linear(in_features=256, out_features=2, bias=True)\n",
       "  )\n",
       "  (decoder): Sequential(\n",
       "    (0): Linear(in_features=2, out_features=256, bias=True)\n",
       "    (1): ReLU(inplace=True)\n",
       "    (2): Linear(in_features=256, out_features=256, bias=True)\n",
       "    (3): ReLU(inplace=True)\n",
       "    (4): Linear(in_features=256, out_features=256, bias=True)\n",
       "    (5): ReLU(inplace=True)\n",
       "    (6): Linear(in_features=256, out_features=256, bias=True)\n",
       "    (7): ReLU(inplace=True)\n",
       "    (8): Linear(in_features=256, out_features=512, bias=True)\n",
       "    (9): ReLU(inplace=True)\n",
       "    (10): Linear(in_features=512, out_features=768, bias=True)\n",
       "  )\n",
       ")"
      ]
     },
     "execution_count": 68,
     "metadata": {},
     "output_type": "execute_result"
    }
   ],
   "source": [
    "from singleVis.projector import DVIProjector\n",
    "\n",
    "file_path = os.path.join(content_path, '{}{}'.format(Epoch_name,Epoch), \"{}.pth\".format(VIS_MODEL_NAME))\n",
    "save_model = torch.load(file_path, map_location=\"cpu\")\n",
    "model.load_state_dict(save_model[\"state_dict\"])\n",
    "model.to(DEVICE)\n",
    "model.eval()\n"
   ]
  },
  {
   "cell_type": "code",
   "execution_count": 69,
   "metadata": {},
   "outputs": [],
   "source": [
    "\n",
    "emb = model.encoder(torch.from_numpy(train_representation).to(dtype=torch.float32, device=DEVICE)).cpu().detach().numpy()"
   ]
  },
  {
   "cell_type": "code",
   "execution_count": 70,
   "metadata": {},
   "outputs": [
    {
     "data": {
      "image/png": "[encoded data removed]",
      "text/plain": [
       "<Figure size 640x480 with 1 Axes>"
      ]
     },
     "metadata": {},
     "output_type": "display_data"
    }
   ],
   "source": [
    "import matplotlib.pyplot as plt\n",
    "import numpy as np\n",
    "\n",
    "plt.scatter(emb[:, 0], emb[:, 1])\n",
    "\n",
    "plt.xlabel(\"X\")\n",
    "plt.ylabel(\"Y\")\n",
    "\n",
    "# 显示图形\n",
    "plt.show()"
   ]
  }
 ],
 "metadata": {
  "kernelspec": {
   "display_name": "deepdebugger",
   "language": "python",
   "name": "deepdebugger"
  },
  "language_info": {
   "codemirror_mode": {
    "name": "ipython",
    "version": 3
   },
   "file_extension": ".py",
   "mimetype": "text/x-python",
   "name": "python",
   "nbconvert_exporter": "python",
   "pygments_lexer": "ipython3",
   "version": "3.7.15"
  }
 },
 "nbformat": 4,
 "nbformat_minor": 2
}
